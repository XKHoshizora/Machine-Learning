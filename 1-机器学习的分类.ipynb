{
 "cells": [
  {
   "cell_type": "markdown",
   "id": "aaeb250a-cb6b-4ccf-a795-19247dbe7453",
   "metadata": {},
   "source": [
    "# 机器学习\n",
    "\n",
    "[TOC]\n",
    "\n",
    "## 1 机器学习的分类\n",
    "\n",
    "根据**任务性质**的不同，机器学习可分为：\n",
    "\n",
    "- 监督学习（Supervised Learning）\n",
    "\n",
    "  - 传统的监督学习（Traditional Supervised Learning）\n",
    "\n",
    "    ```\n",
    "    每一个训练数据都有对应的标签。\n",
    "    ```\n",
    "\n",
    "    算法：\n",
    "\n",
    "      1. 支持向量机（Support Vector Machine）\n",
    "      2. 人工神经网络（Neural Networks）\n",
    "      3. 深度神经网络（Deep Neural Networks）\n",
    "\n",
    "  - 非监督学习（Unsupervised learning）\n",
    "\n",
    "    ```\n",
    "    所有的数据都没有对应的标签,\n",
    "    只需要定义收益函数（Reward Function）。\n",
    "    ```\n",
    "\n",
    "    算法：\n",
    "\n",
    "      1. 聚类（Clustering）\n",
    "      2. EM算法（Expectation-Maximization Algorithm）\n",
    "      3. 主成分分析（Principle Component Analysis）\n",
    "\n",
    "  - 半监督学习（Semi-supervised Learning）\n",
    "\n",
    "    ```\n",
    "    训练数据中，一部分有标签，一部分没有标签。\n",
    "    研究如何通过少量的标注数据和大量的未标注数据，训练更好的机器学习算法。\n",
    "    ```\n",
    "\n",
    "- 强化学习\n",
    "\n",
    "  ```\n",
    "  计算机通过与环境的互动，\n",
    "  逐渐强化自己的行为模式。\n",
    "  ```\n",
    "\n",
    "根据**标签的固有性质**，机器学习可分为：\n",
    "\n",
    "- 监督学习\n",
    "\n",
    "  - 分类（Classification）\n",
    "\n",
    "  ```\n",
    "  标签是离散的值。\n",
    "  ```\n",
    "\n",
    "  - 回归（Regression）\n",
    "\n",
    "  ```\n",
    "  标签是连续的值。\n",
    "  ```\n"
   ]
  },
  {
   "cell_type": "markdown",
   "id": "77a26c9c-7fd7-46a6-8bf3-81957c54e2ed",
   "metadata": {},
   "source": [
    "## 监督学习\n",
    "- "
   ]
  },
  {
   "cell_type": "code",
   "execution_count": null,
   "id": "923b201b-5459-4be8-ac7a-314c469cf5b1",
   "metadata": {},
   "outputs": [],
   "source": []
  }
 ],
 "metadata": {
  "kernelspec": {
   "display_name": "Python 3",
   "language": "python",
   "name": "python3"
  },
  "language_info": {
   "codemirror_mode": {
    "name": "ipython",
    "version": 3
   },
   "file_extension": ".py",
   "mimetype": "text/x-python",
   "name": "python",
   "nbconvert_exporter": "python",
   "pygments_lexer": "ipython3",
   "version": "3.8.10"
  }
 },
 "nbformat": 4,
 "nbformat_minor": 5
}
